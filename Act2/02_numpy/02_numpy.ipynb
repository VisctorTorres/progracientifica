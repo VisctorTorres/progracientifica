{
 "cells": [
  {
   "cell_type": "markdown",
   "metadata": {},
   "source": [
    "<center>\n",
    "    <h1> Scientific Programming in Python  </h1>\n",
    "    <h2> Topic 2: NumPy and Efficient Numerical Programming </h2> \n",
    "</center>\n",
    "\n",
    "_Notebook created by Martín Villanueva - `martin.villanueva@usm.cl` - DI UTFSM - April 2017._"
   ]
  },
  {
   "cell_type": "code",
   "execution_count": 1,
   "metadata": {
    "collapsed": true
   },
   "outputs": [],
   "source": [
    "%matplotlib inline\n",
    "import numpy as np\n",
    "import matplotlib.pyplot as plt\n",
    "import scipy as sp"
   ]
  },
  {
   "cell_type": "markdown",
   "metadata": {},
   "source": [
    "## Table of Contents\n",
    "* [1.- Useful Magics](#magics)\n",
    "* [2.- Basic NumPy Operations](#basic_numpy)\n",
    "* [3.- Internals of NumPy](#internals)\n",
    "* [4.- Efficient Programming in NumPy](#efficient)\n",
    "* [5.- Vectorized Algorithms in NumPy](#vectorized)\n",
    "* [6.- Bonus ](#bonus)"
   ]
  },
  {
   "cell_type": "markdown",
   "metadata": {},
   "source": [
    "<div id='magics' />\n",
    "## Useful magic built-in functions for time-profiling"
   ]
  },
  {
   "cell_type": "markdown",
   "metadata": {},
   "source": [
    "* **time**: See how long it takes a code to run."
   ]
  },
  {
   "cell_type": "code",
   "execution_count": 2,
   "metadata": {
    "collapsed": false
   },
   "outputs": [
    {
     "name": "stdout",
     "output_type": "stream",
     "text": [
      "CPU times: user 563 µs, sys: 0 ns, total: 563 µs\n",
      "Wall time: 570 µs\n"
     ]
    },
    {
     "data": {
      "text/plain": [
       "{3}"
      ]
     },
     "execution_count": 2,
     "metadata": {},
     "output_type": "execute_result"
    }
   ],
   "source": [
    "%time {1+2 for i in range(10000)}"
   ]
  },
  {
   "cell_type": "markdown",
   "metadata": {},
   "source": [
    "\n",
    "* **timeit**: \n",
    "    * _See how long a code takes to run averaged over multiple runs_.  \n",
    "    * It will limit the number of runs depending on how long the script takes to execute.  \n",
    "    * Provide an accurate time calculation by reducing the impact of startup or shutdown costs on the time calculation by executing the code repeatedly."
   ]
  },
  {
   "cell_type": "code",
   "execution_count": 3,
   "metadata": {
    "collapsed": false
   },
   "outputs": [
    {
     "name": "stdout",
     "output_type": "stream",
     "text": [
      "1000 loops, best of 3: 522 µs per loop\n"
     ]
    }
   ],
   "source": [
    "%timeit [1+2 for i in range(10000)]"
   ]
  },
  {
   "cell_type": "code",
   "execution_count": 4,
   "metadata": {
    "collapsed": false
   },
   "outputs": [
    {
     "name": "stdout",
     "output_type": "stream",
     "text": [
      "100 loops, best of 3: 548 µs per loop\n"
     ]
    }
   ],
   "source": [
    "%timeit -n 100 [1+2 for i in range(10000)]"
   ]
  },
  {
   "cell_type": "code",
   "execution_count": 5,
   "metadata": {
    "collapsed": false
   },
   "outputs": [
    {
     "name": "stdout",
     "output_type": "stream",
     "text": [
      "1000 loops, best of 3: 394 µs per loop\n"
     ]
    }
   ],
   "source": [
    "%%timeit\n",
    "for i in range(10000):\n",
    "    1+2"
   ]
  },
  {
   "cell_type": "markdown",
   "metadata": {},
   "source": [
    "* **prun**: See how long it took each function in a script to run."
   ]
  },
  {
   "cell_type": "code",
   "execution_count": 6,
   "metadata": {
    "collapsed": true
   },
   "outputs": [],
   "source": [
    "from time import sleep\n",
    "\n",
    "def foo(): sleep(1)\n",
    "    \n",
    "def bar(): sleep(2)\n",
    "    \n",
    "def baz(): foo(),bar()"
   ]
  },
  {
   "cell_type": "code",
   "execution_count": 7,
   "metadata": {
    "collapsed": false
   },
   "outputs": [
    {
     "name": "stdout",
     "output_type": "stream",
     "text": [
      " "
     ]
    }
   ],
   "source": [
    "%prun baz()"
   ]
  },
  {
   "cell_type": "markdown",
   "metadata": {},
   "source": [
    "<div id='basic_numpy' />\n",
    "## Basic NumPy operations\n",
    "\n",
    "The reasons of why you should use NumPy instead of any other __iterable object_ in Python are:\n",
    "* NumPy provides an ndarray structure for storing numerical data __in a contiguous way__.\n",
    "* Also implements fast __mathematical operations__ on ndarrays, that exploit this contiguity.\n",
    "* __Brevity of the syntax for array operations__. A language like C or Java would require us to write a loop for a matrix operation as simple as C=A+B."
   ]
  },
  {
   "cell_type": "markdown",
   "metadata": {},
   "source": [
    "### Creating Arrays\n",
    "\n",
    "There are several NumPy functions for creating common types of arrays. Below is a list of the most common used:"
   ]
  },
  {
   "cell_type": "code",
   "execution_count": 8,
   "metadata": {
    "collapsed": false
   },
   "outputs": [
    {
     "name": "stdout",
     "output_type": "stream",
     "text": [
      "Zeros:\n",
      "[[ 0.  0.  0.]\n",
      " [ 0.  0.  0.]\n",
      " [ 0.  0.  0.]]\n",
      "\n",
      "Ones:\n",
      "[[ 1.  1.  1.]\n",
      " [ 1.  1.  1.]\n",
      " [ 1.  1.  1.]]\n",
      "\n",
      "Empty:\n",
      "[[ 1.  1.  1.]\n",
      " [ 1.  1.  1.]\n",
      " [ 1.  1.  1.]]\n",
      "\n",
      "Range:\n",
      "[ 0.  1.  2.  3.  4.  5.  6.  7.  8.  9.]\n",
      "\n",
      "Regular grid:\n",
      "[ 0.     0.125  0.25   0.375  0.5    0.625  0.75   0.875  1.   ]\n",
      "\n",
      "Random sequences:\n",
      "[ 5.48385586  9.19830912  9.15753569  6.43820004  9.80728069  8.72753776]\n",
      "\n",
      "Array constructor\n",
      "[ 2  3  5 10 -1]\n"
     ]
    }
   ],
   "source": [
    "# Arrays of zeros: np.zeros(shape)\n",
    "print(\"Zeros:\")\n",
    "print( np.zeros((3,3)) )\n",
    "\n",
    "# Arrays of ones: np.ones(shape)\n",
    "print(\"\\nOnes:\")\n",
    "print( np.ones((3,3)) )\n",
    "\n",
    "# Empty array: np.empty(shape)\n",
    "print(\"\\nEmpty:\")\n",
    "print( np.empty((3,3)) )\n",
    "\n",
    "# Range of values: np.range(start, stop, step)\n",
    "print(\"\\nRange:\")\n",
    "print( np.arange(0., 10., 1.) )\n",
    "\n",
    "# Regular grid: np.linspace(start, end, n_values)\n",
    "print(\"\\nRegular grid:\")\n",
    "print( np.linspace(0., 1., 9) )\n",
    "\n",
    "# Random secuences: np.random\n",
    "print(\"\\nRandom sequences:\")\n",
    "print( np.random.uniform(10, size=6) )\n",
    "\n",
    "# Array constructor: np.array( python_iterable )\n",
    "print(\"\\nArray constructor\")\n",
    "print( np.array([2, 3, 5, 10, -1]) )"
   ]
  },
  {
   "cell_type": "markdown",
   "metadata": {},
   "source": [
    "### Basic Mathematical operations\n",
    "\n",
    "Most of the operations performed in NumPy are handled __element-wise__, i.e, computing C = A + B will translates into $C[i,j] = A[i,j] + B[i,j]$. (The exception is __broadcasting__, and will be explained soon).\n",
    "\n",
    "Below is a list with the most common used mathematical operations. For a comprehensive list se here: [NumPy mathematical functions](https://docs.scipy.org/doc/numpy/reference/routines.math.html)."
   ]
  },
  {
   "cell_type": "code",
   "execution_count": 9,
   "metadata": {
    "collapsed": false
   },
   "outputs": [
    {
     "name": "stdout",
     "output_type": "stream",
     "text": [
      "Sum:\n",
      "[[ 0.80966546  1.65169295  1.21435793  1.0701252   0.83837822]\n",
      " [ 0.16661655  1.02228027  1.41399252  0.93932443  1.65078268]\n",
      " [ 1.26562615  0.39142374  0.75654752  1.46774543  1.18443417]\n",
      " [ 1.37680869  1.72342744  1.42031163  0.61181697  1.0936316 ]\n",
      " [ 0.80940461  0.03538358  1.47548626  1.29196148  0.75220026]]\n",
      "\n",
      "Subtraction\n",
      "[[-0.407564   -0.31830908 -0.69885066  0.18849178  0.17598015]\n",
      " [ 0.08261863  0.92939864 -0.31608367 -0.70923344 -0.16557364]\n",
      " [ 0.20091451 -0.39101644  0.12478292  0.12112421 -0.2055574 ]\n",
      " [-0.60016307 -0.18932877 -0.45878571  0.45537337  0.39513012]\n",
      " [ 0.7912818   0.0337961   0.14999719  0.43959511 -0.026857  ]]\n",
      "\n",
      "Product\n",
      "[[  1.22362436e-01   6.56692233e-01   2.46568232e-01   2.77409699e-01\n",
      "    1.67977257e-01]\n",
      " [  5.23380901e-03   4.53187780e-02   4.74866494e-01   9.48295766e-02\n",
      "    6.74417210e-01]\n",
      " [  3.90360729e-01   7.96708976e-05   1.39198345e-01   5.34901391e-01\n",
      "    3.40157611e-01]\n",
      " [  3.83851612e-01   7.33589186e-01   4.51700203e-01   4.17387760e-02\n",
      "    2.59975569e-01]\n",
      " [  7.25223612e-03   2.74553943e-05   5.38640133e-01   3.68980152e-01\n",
      "    1.41270982e-01]]\n",
      "\n",
      "Matricial Product\n",
      "[[ 0.91423776  0.93209472  1.77785591  1.07709178  1.26854782]\n",
      " [ 0.52951732  0.49344566  1.73700095  1.55439889  1.63847577]\n",
      " [ 1.47060097  1.65484712  1.91160684  0.89084277  1.01741106]\n",
      " [ 1.05868764  1.11711447  2.18153565  1.48612597  1.63567399]\n",
      " [ 1.78031713  1.93620542  2.10606349  1.15083125  1.3049834 ]]\n",
      "\n",
      " Power\n",
      "[[  4.04213962e-02   4.44478138e-01   6.64369359e-02   3.96029178e-01\n",
      "    2.57230723e-01]\n",
      " [  1.55295440e-02   9.52262647e-01   3.01350965e-01   1.32354655e-02\n",
      "    5.51461479e-01]\n",
      " [  5.37685374e-01   4.14722043e-08   1.94185837e-01   6.31126681e-01\n",
      "    2.39549928e-01]\n",
      " [  1.50794604e-01   5.88364676e-01   2.31133027e-01   2.84723806e-01\n",
      "    5.54102869e-01]\n",
      " [  6.40549248e-01   1.19645696e-03   6.60549109e-01   7.49572062e-01\n",
      "    1.31530711e-01]]\n",
      "\n",
      " np.exp()\n",
      "[[ 1.2226868   1.94778326  1.29401998  1.87631265  1.66060033]\n",
      " [ 1.13271521  2.65339369  1.73144173  1.12192448  2.10140154]\n",
      " [ 2.08187791  1.00020367  1.55374046  2.21318979  1.63139974]\n",
      " [ 1.47450569  2.15340289  1.61730788  1.70505125  2.10513766]\n",
      " [ 2.22630488  1.03519503  2.25407959  2.37685527  1.43716386]]\n",
      "\n",
      " np.sin()\n",
      "[[  1.99699007e-01   6.18389662e-01   2.54909040e-01   5.88585860e-01\n",
      "    4.85713455e-01]\n",
      " [  1.24295299e-01   8.28172673e-01   5.21795568e-01   1.14791881e-01\n",
      "    6.76208982e-01]\n",
      " [  6.69303030e-01   2.03647253e-04   4.26541230e-01   7.13467703e-01\n",
      "    4.70130279e-01]\n",
      " [  3.78636632e-01   6.94013895e-01   4.62455786e-01   5.08632006e-01\n",
      "    6.77516560e-01]\n",
      " [  7.17595163e-01   3.45829419e-02   7.26174864e-01   7.61599869e-01\n",
      "    3.54773342e-01]]\n",
      "\n",
      " np.cos()\n",
      "[[ 0.97985729  0.78587163  0.96696504  0.80843471  0.87411809]\n",
      " [ 0.99224527  0.56047304  0.85307056  0.99338956  0.73670986]\n",
      " [ 0.74298954  0.99999998  0.90446812  0.70068812  0.88259703]\n",
      " [ 0.92554541  0.71996161  0.88664234  0.86098402  0.73550752]\n",
      " [ 0.69646047  0.99940183  0.68751005  0.64804756  0.93495234]]\n",
      "\n",
      " np.tan()\n",
      "[[  2.03804175e-01   7.86883805e-01   2.63617639e-01   7.28056143e-01\n",
      "    5.55661139e-01]\n",
      " [  1.25266708e-01   1.47763161e+00   6.11667535e-01   1.15555755e-01\n",
      "    9.17876930e-01]\n",
      " [  9.00824298e-01   2.03647257e-04   4.71593439e-01   1.01823862e+00\n",
      "    5.32666961e-01]\n",
      " [  4.09095685e-01   9.63959590e-01   5.21580984e-01   5.90756616e-01\n",
      "    9.21155179e-01]\n",
      " [  1.03034587e+00   3.46036407e-02   1.05623891e+00   1.17522218e+00\n",
      "    3.79456072e-01]]\n"
     ]
    }
   ],
   "source": [
    "# first we create two random arrays:\n",
    "A = np.random.random((5,5))\n",
    "B = np.random.random((5,5))\n",
    "\n",
    "# sum\n",
    "print(\"Sum:\")\n",
    "print( A+B )\n",
    "\n",
    "# subtraction\n",
    "print(\"\\nSubtraction\")\n",
    "print( A-B )\n",
    "\n",
    "# product\n",
    "print(\"\\nProduct\")\n",
    "print( A*B )\n",
    "\n",
    "# matricial product\n",
    "print(\"\\nMatricial Product\")\n",
    "print( np.dot(A,B) )\n",
    "\n",
    "# power\n",
    "print(\"\\n Power\")\n",
    "print( A**2 )\n",
    "\n",
    "# Some common mathematical functions\n",
    "print(\"\\n np.exp()\")\n",
    "print( np.exp(A) )\n",
    "print(\"\\n np.sin()\")\n",
    "print( np.sin(A) )\n",
    "print(\"\\n np.cos()\")\n",
    "print( np.cos(A))\n",
    "print(\"\\n np.tan()\")\n",
    "print( np.tan(A) )"
   ]
  },
  {
   "cell_type": "markdown",
   "metadata": {},
   "source": [
    "### Boolean operations\n",
    "\n",
    "Comparisons in NumPy work exaclty the same way as mathematical operations, i.e, __element wise!__. Let's see some examples:"
   ]
  },
  {
   "cell_type": "code",
   "execution_count": 10,
   "metadata": {
    "collapsed": false
   },
   "outputs": [
    {
     "name": "stdout",
     "output_type": "stream",
     "text": [
      "A > B:\n",
      "[[False False False]\n",
      " [False False False]\n",
      " [ True  True  True]]\n",
      "\n",
      "A =< B:\n",
      "[[ True  True  True]\n",
      " [ True  True  True]\n",
      " [False False False]]\n",
      "\n",
      " A==B:\n",
      "[[ True  True  True]\n",
      " [False False  True]\n",
      " [False False False]]\n",
      "\n",
      " A!=B:\n",
      "[[False False False]\n",
      " [ True  True False]\n",
      " [ True  True  True]]\n",
      "\n",
      " A and B:\n",
      "[[ True  True  True]\n",
      " [False False  True]\n",
      " [False False False]]\n",
      "\n",
      " A or B:\n",
      "[[ True  True  True]\n",
      " [False False  True]\n",
      " [ True  True  True]]\n",
      "\n",
      " not A:\n",
      "[[False False False]\n",
      " [ True  True False]\n",
      " [ True  True  True]]\n"
     ]
    }
   ],
   "source": [
    "# Creating two 2d-arrays\n",
    "A = np.array( [[1, 2, 3], [2, 3, 5], [1, 9, 6]] )\n",
    "B = np.array( [[1, 2, 3], [3, 5, 5], [0, 8, 5]] )\n",
    "\n",
    "print(\"A > B:\")\n",
    "print( A > B )\n",
    "\n",
    "print(\"\\nA =< B:\")\n",
    "print( A <= B )\n",
    "\n",
    "print(\"\\n A==B:\")\n",
    "print( A==B )\n",
    "\n",
    "print(\"\\n A!=B:\")\n",
    "print( A!=B )\n",
    "\n",
    "# Creating two 2d boolean arrays\n",
    "C = A==B\n",
    "D = A>=B\n",
    "\n",
    "print(\"\\n A and B:\")\n",
    "print( C & D)\n",
    "#print( np.logical_and(C,D) )\n",
    "\n",
    "print(\"\\n A or B:\")\n",
    "print( C | D)\n",
    "#print( np.logical_or(C,D) )\n",
    "\n",
    "print(\"\\n not A:\")\n",
    "print( ~C )\n",
    "#print( np.logical_not(C))"
   ]
  },
  {
   "cell_type": "markdown",
   "metadata": {},
   "source": [
    "<div id='internals' />\n",
    "## Internals of NumPy\n",
    "\n",
    "### The `numpy.ndarray` structure\n",
    "\n",
    "The `ndarray` is the NumPy object that let us create __$N$-dimensional arrays__. It is essentially defined by:\n",
    "1. A number of __dimensions__\n",
    "2. a __shape__\n",
    "3. __strides__\n",
    "4. __data type__ or __dtpe__\n",
    "5. The __data buffer__.\n",
    "\n",
    "<img src='data/ndarray.png' style=\"width: 500px;\">"
   ]
  },
  {
   "cell_type": "code",
   "execution_count": 11,
   "metadata": {
    "collapsed": false
   },
   "outputs": [
    {
     "name": "stdout",
     "output_type": "stream",
     "text": [
      "Dims: \n",
      "2\n",
      "\n",
      "Shape: \n",
      "(5, 5)\n",
      "\n",
      "Strides: \n",
      "(40, 8)\n",
      "\n",
      "Data type: \n",
      "float64\n"
     ]
    }
   ],
   "source": [
    "# Lets create a random array\n",
    "A = np.random.random((5,5))\n",
    "\n",
    "print(\"Dims: \")\n",
    "print(A.ndim)\n",
    "\n",
    "print(\"\\nShape: \")\n",
    "print(A.shape)\n",
    "\n",
    "print(\"\\nStrides: \")\n",
    "print(A.strides)\n",
    "\n",
    "print(\"\\nData type: \")\n",
    "print(A.dtype)"
   ]
  },
  {
   "cell_type": "markdown",
   "metadata": {},
   "source": [
    "### How an `ndarray` is stored in memory?\n",
    "\n",
    "When there is more than one dimension, there are two ways of storing the elements in the memory block:\n",
    "1. Elements can be stored in __row-major order__ (also known as __C-order__) or,\n",
    "2. In __column-major order__ (also known as __Fortran-order__).\n",
    "\n",
    "<img src='data/ndarray_storage.png' style=\"width: 800px;\">\n",
    "\n",
    "\n",
    "### What are the `strides`?\n",
    "\n",
    "NumPy uses the notion of strides to convert between a multidimensional index and the memory location of the underlying (1D) sequence of elements. \n",
    "\n",
    "For example, the mapping between array[i,j] and the corresponding address the byte is:\n",
    "* `offset = array.strides[0] * i1 + array.strides[1] * i2`\n",
    "* `address = base + offset`\n",
    "where base is the address of the first byte (`array[0,0]`)."
   ]
  },
  {
   "cell_type": "code",
   "execution_count": 12,
   "metadata": {
    "collapsed": false
   },
   "outputs": [
    {
     "name": "stdout",
     "output_type": "stream",
     "text": [
      "C strides:\n",
      "(16, 8)\n",
      "\n",
      "F strides:\n",
      "(8, 40)\n"
     ]
    }
   ],
   "source": [
    "# Lets create a random array in C-order\n",
    "A = np.random.random((5,2))\n",
    "print(\"C strides:\")\n",
    "print(A.strides)\n",
    "\n",
    "# Lets create a random array in F-order\n",
    "B = np.asfortranarray(A)\n",
    "print(\"\\nF strides:\")\n",
    "print(B.strides)"
   ]
  },
  {
   "cell_type": "markdown",
   "metadata": {},
   "source": [
    "### An interesting result"
   ]
  },
  {
   "cell_type": "code",
   "execution_count": 13,
   "metadata": {
    "collapsed": true
   },
   "outputs": [],
   "source": [
    "X = np.random.random((5000,5000))"
   ]
  },
  {
   "cell_type": "code",
   "execution_count": 14,
   "metadata": {
    "collapsed": false
   },
   "outputs": [
    {
     "name": "stdout",
     "output_type": "stream",
     "text": [
      "The slowest run took 27.14 times longer than the fastest. This could mean that an intermediate result is being cached.\n",
      "100000 loops, best of 3: 6.38 µs per loop\n"
     ]
    }
   ],
   "source": [
    "%timeit X[0,:].sum()"
   ]
  },
  {
   "cell_type": "code",
   "execution_count": 15,
   "metadata": {
    "collapsed": false
   },
   "outputs": [
    {
     "name": "stdout",
     "output_type": "stream",
     "text": [
      "The slowest run took 17.38 times longer than the fastest. This could mean that an intermediate result is being cached.\n",
      "10000 loops, best of 3: 148 µs per loop\n"
     ]
    }
   ],
   "source": [
    "%timeit X[:,0].sum()"
   ]
  },
  {
   "cell_type": "markdown",
   "metadata": {},
   "source": [
    "### Why Python is so slow?"
   ]
  },
  {
   "cell_type": "markdown",
   "metadata": {},
   "source": [
    "* ** Python is Dynamically Typed rather than Statically Typed.** What this means is that at the time the program executes, the interpreter doesn't know the type of the variables that are defined. <img src='data/cint_vs_pyint.png' style=\"width: 300px;\">\n",
    "* **Python is interpreted rather than compiled.** A smart compiler can look ahead and optimize for repeated or unneeded operations, which can result in speed-ups. \n",
    "* **Python's object model can lead to inefficient memory access.** A NumPy array in its simplest form is a Python object build around a C array. That is, it has a pointer to a contiguous data buffer of values. A Python list, on the other hand, has a pointer to a contiguous buffer of pointers, each of which points to a Python object which in turn has references to its data (in this case, integers). <img src='data/array_vs_list.png' style=\"width: 500px;\">"
   ]
  },
  {
   "cell_type": "markdown",
   "metadata": {},
   "source": [
    "### Why Numpy is so fast?"
   ]
  },
  {
   "cell_type": "markdown",
   "metadata": {},
   "source": [
    "* Computations follow the **Single Instruction Multiple Data** (SIMD) paradigm. So that NumPy can take advantage of vectorized instructions on modern CPUs, like Intel's SSE and AVX, AMD's XOP.\n",
    "<img src='data/devectorized.png' style=\"width: 350px;\", caption='asdf'>\n",
    "<img src='data/vectorized.png' style=\"width: 350px;\">\n",
    "* A NumPy array is described by metadata (number of dimensions, shape, data type, strides, and so on) and the data (which is stored in a **homogeneous and contiguous** blocks of memory).\n",
    "* **Array computations** can be written very efficiently in a low-level language like C (and a large part of NumPy is actually written in C). Aditionally many internal methods and functions are linked to highly optimized linear algebra libraries like **BLAS** (Basic Linear Algebra Subprograms) and **LAPACK** (Linear Algebra PACKage).\n",
    "* **Spatial locality** in memory access patterns results in significant performance gains, notably thanks to the CPU cache.  Indeed, the cache loads bytes in chunks from RAM to the CPU registers."
   ]
  },
  {
   "cell_type": "markdown",
   "metadata": {},
   "source": [
    "### Lets see the problem..."
   ]
  },
  {
   "cell_type": "markdown",
   "metadata": {},
   "source": [
    "Consider the problem of calculating the squared norm of a vector ($\\displaystyle || \\mathbf{v} ||^2 = \\mathbf{v} \\cdot \\mathbf{v}$) with the following 4 implementations:"
   ]
  },
  {
   "cell_type": "code",
   "execution_count": 16,
   "metadata": {
    "collapsed": true
   },
   "outputs": [],
   "source": [
    "#Python Lists implementation\n",
    "def norm_square_list(vector):\n",
    "    norm = 0\n",
    "    for v in vector:\n",
    "        norm += v*v\n",
    "    return norm\n",
    "\n",
    "#Naive NumPy implementation\n",
    "def norm_square_array(vector):\n",
    "    norm = 0\n",
    "    for v in vector:\n",
    "        norm += v*v\n",
    "    return norm\n",
    "\n",
    "#Vectorized NumPy implementation\n",
    "def norm_square_numpy(vector):\n",
    "    return np.sum(vector * vector)\n",
    "\n",
    "#Clever NumPy implementation\n",
    "def norm_square_dot(vector):\n",
    "    return np.dot(vector, vector)\n",
    "\n",
    "#Vector to use - dimension 10^6\n",
    "vector = range(1000000)\n",
    "npvector = np.array(vector)"
   ]
  },
  {
   "cell_type": "code",
   "execution_count": 17,
   "metadata": {
    "collapsed": false
   },
   "outputs": [
    {
     "name": "stdout",
     "output_type": "stream",
     "text": [
      "10 loops, best of 3: 153 ms per loop\n"
     ]
    }
   ],
   "source": [
    "#Timing the list implementation\n",
    "%timeit norm_square_list(vector)"
   ]
  },
  {
   "cell_type": "code",
   "execution_count": 18,
   "metadata": {
    "collapsed": false
   },
   "outputs": [
    {
     "name": "stdout",
     "output_type": "stream",
     "text": [
      "1 loop, best of 3: 225 ms per loop\n"
     ]
    }
   ],
   "source": [
    "#Timing the naive array implementation\n",
    "%timeit norm_square_array(npvector)"
   ]
  },
  {
   "cell_type": "code",
   "execution_count": 19,
   "metadata": {
    "collapsed": false
   },
   "outputs": [
    {
     "name": "stdout",
     "output_type": "stream",
     "text": [
      "100 loops, best of 3: 3.69 ms per loop\n"
     ]
    }
   ],
   "source": [
    "#Timing the NumPy-vectorized implementation\n",
    "%timeit norm_square_numpy(npvector)"
   ]
  },
  {
   "cell_type": "code",
   "execution_count": 20,
   "metadata": {
    "collapsed": false
   },
   "outputs": [
    {
     "name": "stdout",
     "output_type": "stream",
     "text": [
      "The slowest run took 11.42 times longer than the fastest. This could mean that an intermediate result is being cached.\n",
      "1000 loops, best of 3: 802 µs per loop\n"
     ]
    }
   ],
   "source": [
    "#Timing the clever NumPy-vectorized implementation\n",
    "%timeit norm_square_dot(npvector)"
   ]
  },
  {
   "cell_type": "markdown",
   "metadata": {},
   "source": [
    "As you can see, some interesting things have happened:\n",
    "\n",
    "* The naive NumPy implementation, which iterates over data is actually __slower__ than simply using a list. This is because the *array* stores a  very low-level representation of the numbers it stores , and this **must be converted** into Python-compatible objects before being returned to user, causing this extra overhead each time you index an *array*.\n",
    "* `norm_square_numpy` is slower than the clever NumPy implementation because two reasons:\n",
    "    1. There is time spend in allocating memory for storing the temporary result `(vector x vector)` and\n",
    "    2. This creates two **implied loops**, one to do the multiplication and one to do the sum.\n",
    "* The clever implementation uses *np.dot()* NumPy function which has no need to store intermediate results, and iterates just one time (but at C speed)."
   ]
  },
  {
   "cell_type": "markdown",
   "metadata": {},
   "source": [
    "<div id='efficient' />\n",
    "## Eficient programming with NumPy"
   ]
  },
  {
   "cell_type": "markdown",
   "metadata": {},
   "source": [
    "### In-place and implicit copy operations"
   ]
  },
  {
   "cell_type": "markdown",
   "metadata": {},
   "source": [
    "Prefer in-place over implicit-copy operations whenever possible. This will save memory (less work to garbage collector) and performs faster."
   ]
  },
  {
   "cell_type": "code",
   "execution_count": 21,
   "metadata": {
    "collapsed": true
   },
   "outputs": [],
   "source": [
    "def id(x):\n",
    "    \"\"\"\n",
    "    This function returns the memory\n",
    "    block address of an array.\n",
    "    \"\"\"\n",
    "    return x.__array_interface__['data'][0]"
   ]
  },
  {
   "cell_type": "markdown",
   "metadata": {},
   "source": [
    "Array computations can involve **in-place** operations (first example below: the array is modified) or **implicit-copy** operations (second example: a new array is created)."
   ]
  },
  {
   "cell_type": "code",
   "execution_count": 22,
   "metadata": {
    "collapsed": true
   },
   "outputs": [],
   "source": [
    "a = np.zeros(10); aid = id(a)"
   ]
  },
  {
   "cell_type": "code",
   "execution_count": 23,
   "metadata": {
    "collapsed": false
   },
   "outputs": [
    {
     "data": {
      "text/plain": [
       "True"
      ]
     },
     "execution_count": 23,
     "metadata": {},
     "output_type": "execute_result"
    }
   ],
   "source": [
    "# in-place operation\n",
    "a *= 2; id(a) == aid"
   ]
  },
  {
   "cell_type": "code",
   "execution_count": 24,
   "metadata": {
    "collapsed": false
   },
   "outputs": [
    {
     "data": {
      "text/plain": [
       "False"
      ]
     },
     "execution_count": 24,
     "metadata": {},
     "output_type": "execute_result"
    }
   ],
   "source": [
    "# implicit-copy operation\n",
    "a = a * 2; id(a) == aid"
   ]
  },
  {
   "cell_type": "markdown",
   "metadata": {},
   "source": [
    "Be sure to choose the type of operation you actually need. Implicit-copy operations are **slower!**"
   ]
  },
  {
   "cell_type": "code",
   "execution_count": 25,
   "metadata": {
    "collapsed": false
   },
   "outputs": [
    {
     "name": "stdout",
     "output_type": "stream",
     "text": [
      "The slowest run took 5.19 times longer than the fastest. This could mean that an intermediate result is being cached.\n",
      "1 loop, best of 3: 471 ms per loop\n"
     ]
    }
   ],
   "source": [
    "%%timeit \n",
    "a = np.ones(100000000)\n",
    "a *= 2"
   ]
  },
  {
   "cell_type": "code",
   "execution_count": 26,
   "metadata": {
    "collapsed": false
   },
   "outputs": [
    {
     "name": "stdout",
     "output_type": "stream",
     "text": [
      "1 loop, best of 3: 1.17 s per loop\n"
     ]
    }
   ],
   "source": [
    "%%timeit\n",
    "a = np.ones(100000000)\n",
    "b = a * 2"
   ]
  },
  {
   "cell_type": "markdown",
   "metadata": {},
   "source": [
    "### Efficient memory access"
   ]
  },
  {
   "cell_type": "markdown",
   "metadata": {},
   "source": [
    "We have basically three alternatives to access arrays without loops:\n",
    "\n",
    "1. **array slicing**\n",
    "2. **boolean masks**\n",
    "3. **fancy indexing**. \n",
    "\n",
    "__Note.__ If you find yourself looping over indices to select items on which operation is performed, it can probably be done more efficiently with one of these techniques!"
   ]
  },
  {
   "cell_type": "code",
   "execution_count": 27,
   "metadata": {
    "collapsed": true
   },
   "outputs": [],
   "source": [
    "m, n = 1000000, 100\n",
    "a = np.random.random_sample((m, n))\n",
    "index = np.arange(0, m, 10)"
   ]
  },
  {
   "cell_type": "code",
   "execution_count": 28,
   "metadata": {
    "collapsed": false
   },
   "outputs": [
    {
     "name": "stdout",
     "output_type": "stream",
     "text": [
      "10 loops, best of 3: 44.4 ms per loop\n"
     ]
    }
   ],
   "source": [
    "#fancy indexing - indexing with lists\n",
    "%timeit a[index]"
   ]
  },
  {
   "cell_type": "code",
   "execution_count": 29,
   "metadata": {
    "collapsed": false
   },
   "outputs": [
    {
     "name": "stdout",
     "output_type": "stream",
     "text": [
      "The slowest run took 31.50 times longer than the fastest. This could mean that an intermediate result is being cached.\n",
      "1000000 loops, best of 3: 257 ns per loop\n"
     ]
    }
   ],
   "source": [
    "#memory slice - memory views\n",
    "%timeit a[::10]"
   ]
  },
  {
   "cell_type": "markdown",
   "metadata": {},
   "source": [
    "*  Array slices are implemented as __memory views__, i.e, refer to the original data buffer of an array, but with different __offsets__, __shapes__ and __strides__.\n",
    "* Array views should be used whenever possible, but one needs to be careful about the fact that views refer to the original data buffer.\n",
    "* Fancy indexing is several orders of magnitude slower as it involves copying a large array.\n",
    "\n",
    "Another useful indexing technique is the __mask of booleans__. Lets suppose we want to get all the elements on array with value less than 0.5"
   ]
  },
  {
   "cell_type": "code",
   "execution_count": 30,
   "metadata": {
    "collapsed": false
   },
   "outputs": [
    {
     "data": {
      "text/plain": [
       "array([False, False, False, ..., False, False, False], dtype=bool)"
      ]
     },
     "execution_count": 30,
     "metadata": {},
     "output_type": "execute_result"
    }
   ],
   "source": [
    "def naive_indexing(vect):\n",
    "    ret = list()\n",
    "    for val in vect:\n",
    "        if val < 0.5: ret.append(val)\n",
    "    return np.array(ret)\n",
    "\n",
    "#data to occupy and mask of booleans\n",
    "vect = np.random.random_sample(1000000)\n",
    "mask = vect < 0.5\n",
    "mask"
   ]
  },
  {
   "cell_type": "code",
   "execution_count": 31,
   "metadata": {
    "collapsed": false
   },
   "outputs": [
    {
     "name": "stdout",
     "output_type": "stream",
     "text": [
      "1 loop, best of 3: 228 ms per loop\n"
     ]
    }
   ],
   "source": [
    "#naive indexing\n",
    "%timeit naive_indexing(vect)"
   ]
  },
  {
   "cell_type": "code",
   "execution_count": 32,
   "metadata": {
    "collapsed": false
   },
   "outputs": [
    {
     "name": "stdout",
     "output_type": "stream",
     "text": [
      "100 loops, best of 3: 8.49 ms per loop\n"
     ]
    }
   ],
   "source": [
    "#mask indexing\n",
    "%timeit vect[mask]"
   ]
  },
  {
   "cell_type": "code",
   "execution_count": 33,
   "metadata": {
    "collapsed": false
   },
   "outputs": [
    {
     "name": "stdout",
     "output_type": "stream",
     "text": [
      "100 loops, best of 3: 8.63 ms per loop\n"
     ]
    }
   ],
   "source": [
    "#'improved' mask indexing\n",
    "%timeit np.compress(mask, vect)"
   ]
  },
  {
   "cell_type": "markdown",
   "metadata": {},
   "source": [
    "### Broadcasting"
   ]
  },
  {
   "cell_type": "markdown",
   "metadata": {},
   "source": [
    "There is no need to always reshape arrays before operate on them. This useful feature implemented in NumPy arrays is called **Broadcasting rules.** In the visualization below, the extra memory indicated by the dotted boxes is never allocated, but it can be convenient to think about the operations as if it is.\n",
    "<img src='data/broadcasting.png' style=\"width: 600px;\">\n",
    "\n",
    "__How it works:__ The two arrays to be operated must match in at least one dimension. Then the array with less dimensions will __logically__ extended to match the dimensions of the other"
   ]
  },
  {
   "cell_type": "code",
   "execution_count": 34,
   "metadata": {
    "collapsed": false
   },
   "outputs": [
    {
     "data": {
      "text/plain": [
       "array([5, 6, 7])"
      ]
     },
     "execution_count": 34,
     "metadata": {},
     "output_type": "execute_result"
    }
   ],
   "source": [
    "# array([0,1,2]) + 5\n",
    "np.arange(3) + 5"
   ]
  },
  {
   "cell_type": "code",
   "execution_count": 35,
   "metadata": {
    "collapsed": false
   },
   "outputs": [
    {
     "data": {
      "text/plain": [
       "array([[ 1.,  2.,  3.],\n",
       "       [ 1.,  2.,  3.],\n",
       "       [ 1.,  2.,  3.]])"
      ]
     },
     "execution_count": 35,
     "metadata": {},
     "output_type": "execute_result"
    }
   ],
   "source": [
    "# array([[1, 1 ,1], [1, 1, 1], [1, 1, 1]]) + array([0, 1, 2])\n",
    "np.ones((3,3)) + np.arange(3)"
   ]
  },
  {
   "cell_type": "code",
   "execution_count": 36,
   "metadata": {
    "collapsed": false
   },
   "outputs": [
    {
     "data": {
      "text/plain": [
       "array([[0, 1, 2],\n",
       "       [1, 2, 3],\n",
       "       [2, 3, 4]])"
      ]
     },
     "execution_count": 36,
     "metadata": {},
     "output_type": "execute_result"
    }
   ],
   "source": [
    "# array([[0], [1], [2]]) + array([0, 1 ,2])\n",
    "np.arange(3).reshape((3,1)) + np.arange(3)"
   ]
  },
  {
   "cell_type": "markdown",
   "metadata": {},
   "source": [
    "<div id='vectorized' />\n",
    "## Vectorized Algorithms with NumPy"
   ]
  },
  {
   "cell_type": "markdown",
   "metadata": {},
   "source": [
    "**Vectorization:** *The process of converting a scalar implementation, which processes a single pair of operands at a time, to a vector implementation, which processes one operation on multiple pairs of operands at once.*"
   ]
  },
  {
   "cell_type": "markdown",
   "metadata": {},
   "source": [
    "### Example: Gram-Shmidt Orthogonalization"
   ]
  },
  {
   "cell_type": "markdown",
   "metadata": {},
   "source": [
    "**The problem**: Given a matrix $Q_{m\\times n}$ with ($m>n$), find a vector $v$ orthogonal to the column space of $Q$. \n",
    "<img src='data/orthogonalization.jpg' style=\"width: 400px;\">"
   ]
  },
  {
   "cell_type": "code",
   "execution_count": 37,
   "metadata": {
    "collapsed": true
   },
   "outputs": [],
   "source": [
    "def naive_orth(Q,v):\n",
    "    m,n = Q.shape\n",
    "    for j in range(n):\n",
    "        v -= np.dot(Q[:,j],v)*Q[:,j]\n",
    "    return v\n",
    "    \n",
    "def vectorized_orth(Q,v):\n",
    "    proy = np.dot(Q.transpose(),v)\n",
    "    # v -= (proy*Q).sum(axis=1)\n",
    "    v -= np.dot(Q,proy)\n",
    "    return v"
   ]
  },
  {
   "cell_type": "code",
   "execution_count": 38,
   "metadata": {
    "collapsed": true
   },
   "outputs": [],
   "source": [
    "# Let's generate a random unitary matrix\n",
    "# Q unitary matrix, dimensions 100000 x1000\n",
    "m,n = 10000,100\n",
    "A = 10 * np.random.random((m,n))\n",
    "Q,R = np.linalg.qr(A, mode='reduced')\n",
    "del R\n",
    "\n",
    "# v will be the starting vector for orthogonalization\n",
    "v = np.random.random(m)\n",
    "v1 = v.copy()\n",
    "v2 = v.copy()"
   ]
  },
  {
   "cell_type": "code",
   "execution_count": 39,
   "metadata": {
    "collapsed": false
   },
   "outputs": [
    {
     "name": "stdout",
     "output_type": "stream",
     "text": [
      "100 loops, best of 3: 6.81 ms per loop\n"
     ]
    }
   ],
   "source": [
    "%timeit naive_orth(Q,v1)"
   ]
  },
  {
   "cell_type": "code",
   "execution_count": 40,
   "metadata": {
    "collapsed": false
   },
   "outputs": [
    {
     "name": "stdout",
     "output_type": "stream",
     "text": [
      "The slowest run took 11.13 times longer than the fastest. This could mean that an intermediate result is being cached.\n",
      "1000 loops, best of 3: 890 µs per loop\n"
     ]
    }
   ],
   "source": [
    "%timeit vectorized_orth(Q,v2)"
   ]
  },
  {
   "cell_type": "markdown",
   "metadata": {},
   "source": [
    "<div id='bonus' />\n",
    "## Bonus: Useful libraries based in NumPy"
   ]
  },
  {
   "cell_type": "markdown",
   "metadata": {},
   "source": [
    "### numpy.linalg (Numpy's submodule)"
   ]
  },
  {
   "cell_type": "code",
   "execution_count": 41,
   "metadata": {
    "collapsed": true
   },
   "outputs": [],
   "source": [
    "A = np.random.random((100,100))\n",
    "b = np.random.random(100)\n",
    "c = np.random.random(100)\n",
    "\n",
    "### Matrix power ###\n",
    "np.linalg.matrix_power(A,3)\n",
    "\n",
    "### Cholesky decomposition ###\n",
    "#np.linalg.cholesky(A) #A must be positive definite\n",
    "\n",
    "### QR decomposition ###\n",
    "np.linalg.qr(A, mode='reduced')\n",
    "\n",
    "### SVD decomposition ###\n",
    "np.linalg.svd(A, full_matrices=False)\n",
    "\n",
    "### Eigenvectors ###\n",
    "np.linalg.eig(A)\n",
    "\n",
    "### Eigevalues ###\n",
    "np.linalg.eigvals(A)\n",
    "\n",
    "### Matrix or vector norm ###\n",
    "np.linalg.norm(A, ord='fro')\n",
    "\n",
    "### Condition number ###\n",
    "np.linalg.cond(A, p=np.inf)\n",
    "\n",
    "### Determinant ###\n",
    "np.linalg.det(A)\n",
    "\n",
    "### Linear solver Ax=b ###\n",
    "np.linalg.solve(A,b)\n",
    "\n",
    "### Least Squares Ax=b (over-determined) ###\n",
    "np.linalg.lstsq(A,b)\n",
    "\n",
    "### Inverse ###\n",
    "np.linalg.inv(A)\n",
    "\n",
    "### Pseudo-Inverse ###\n",
    "np.linalg.pinv(A)\n",
    "\n",
    "### and many more...\n",
    "del A,b,c"
   ]
  },
  {
   "cell_type": "markdown",
   "metadata": {},
   "source": [
    "### scipy.optimize(SciPy's submodule)"
   ]
  },
  {
   "cell_type": "markdown",
   "metadata": {},
   "source": [
    "* bisect(f, a, b[, args, xtol, rtol, maxiter, ...]) -  \tFind root of a function within an interval.\n",
    "* newton(func, x0[, fprime, args, tol, ...]) -\tFind a zero using the Newton-Raphson or secant method.\n",
    "* fixed_point(func, x0[, args, xtol, maxiter]) -\tFind a fixed point of the function.\n",
    "* root(fun, x0[, args, method, jac, tol, ...]) -\tFind a root of a vector function.\n",
    "* fsolve(func, x0[, args, fprime, ...]) -\tFind the roots of a function."
   ]
  },
  {
   "cell_type": "markdown",
   "metadata": {},
   "source": [
    "### scipy.integrate (Scipy's submodule)"
   ]
  },
  {
   "cell_type": "markdown",
   "metadata": {},
   "source": [
    "* cumtrapz(y[, x, dx, axis, initial]) -\tCumulatively integrate y(x) using the composite trapezoidal rule.\n",
    "* simps(y[, x, dx, axis, even]) -\tIntegrate y(x) using samples along the given axis and the composite Simpson’s rule.\n",
    "* fixed_quad(func, a, b[, args, n]) -\tCompute a definite integral using fixed-order Gaussian quadrature.\n",
    "* quadrature(func, a, b[, args, tol, rtol, ...]) -\tCompute a definite integral using fixed-tolerance Gaussian quadrature.\n",
    "* odeint(func, y0, t[, args, Dfun, col_deriv, ...]) -\tIntegrate a system of ordinary differential equations."
   ]
  },
  {
   "cell_type": "markdown",
   "metadata": {},
   "source": [
    "## References"
   ]
  },
  {
   "cell_type": "markdown",
   "metadata": {},
   "source": [
    "* [*IPython notebook oficial documentation*](http://ipython.readthedocs.org/en/stable/)\n",
    "* [*Time and memory Profiling in IPython*](http://pynash.org/2013/03/06/timing-and-profiling.html)\n",
    "* [*Getting the best performance out of NumPy*](http://ipython-books.github.io/featured-01/)\n",
    "* [*Why Python is slow*](https://jakevdp.github.io/blog/2014/05/09/why-python-is-slow/)\n",
    "* [*High Performance Python: Practical Performant Programming for Humans*](https://books.google.cl/books?id=bIZaBAAAQBAJ&pg=PA115&lpg=PA115&dq#v=onepage&q&f=false)"
   ]
  },
  {
   "cell_type": "code",
   "execution_count": null,
   "metadata": {
    "collapsed": true
   },
   "outputs": [],
   "source": []
  },
  {
   "cell_type": "code",
   "execution_count": null,
   "metadata": {
    "collapsed": true
   },
   "outputs": [],
   "source": []
  },
  {
   "cell_type": "code",
   "execution_count": null,
   "metadata": {
    "collapsed": true
   },
   "outputs": [],
   "source": []
  },
  {
   "cell_type": "code",
   "execution_count": null,
   "metadata": {
    "collapsed": true
   },
   "outputs": [],
   "source": []
  },
  {
   "cell_type": "code",
   "execution_count": null,
   "metadata": {
    "collapsed": true
   },
   "outputs": [],
   "source": []
  },
  {
   "cell_type": "code",
   "execution_count": null,
   "metadata": {
    "collapsed": true
   },
   "outputs": [],
   "source": []
  },
  {
   "cell_type": "code",
   "execution_count": null,
   "metadata": {
    "collapsed": true
   },
   "outputs": [],
   "source": []
  },
  {
   "cell_type": "code",
   "execution_count": null,
   "metadata": {
    "collapsed": true
   },
   "outputs": [],
   "source": []
  },
  {
   "cell_type": "code",
   "execution_count": null,
   "metadata": {
    "collapsed": true
   },
   "outputs": [],
   "source": []
  },
  {
   "cell_type": "code",
   "execution_count": null,
   "metadata": {
    "collapsed": true
   },
   "outputs": [],
   "source": []
  },
  {
   "cell_type": "code",
   "execution_count": null,
   "metadata": {
    "collapsed": true
   },
   "outputs": [],
   "source": []
  }
 ],
 "metadata": {
  "kernelspec": {
   "display_name": "Python 3",
   "language": "python",
   "name": "python3"
  },
  "language_info": {
   "codemirror_mode": {
    "name": "ipython",
    "version": 3
   },
   "file_extension": ".py",
   "mimetype": "text/x-python",
   "name": "python",
   "nbconvert_exporter": "python",
   "pygments_lexer": "ipython3",
   "version": "3.6.0"
  }
 },
 "nbformat": 4,
 "nbformat_minor": 1
}
