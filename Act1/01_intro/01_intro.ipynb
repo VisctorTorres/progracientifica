{
 "cells": [
  {
   "cell_type": "markdown",
   "metadata": {
    "deletable": true,
    "editable": true
   },
   "source": [
    "<center>\n",
    "    <h1> Scientific Programming in Python  </h1>\n",
    "    <h2> Topic 1: Introduction and basic tools </h2> \n",
    "</center>\n",
    "\n",
    "_Notebook created by Martín Villanueva - `martin.villanueva@usm.cl` - DI UTFSM - April 2017._"
   ]
  },
  {
   "cell_type": "code",
   "execution_count": 5,
   "metadata": {
    "collapsed": true,
    "deletable": true,
    "editable": true
   },
   "outputs": [],
   "source": [
    "%matplotlib inline\n",
    "import numpy as np\n",
    "import matplotlib.pyplot as plt\n",
    "import scipy as sp"
   ]
  },
  {
   "cell_type": "markdown",
   "metadata": {
    "deletable": true,
    "editable": true
   },
   "source": [
    "## Table of Contents\n",
    "* [1.- Anaconda](#anaconda)\n",
    "* [2.- GIT](#git)\n",
    "* [3.- IPython](#ipython)\n",
    "* [4.- Jupyter Notebook](#jupyter)\n",
    "* [5.- Inside Ipython and Kernels](#inside)\n",
    "* [6.- Magics](#magics)"
   ]
  },
  {
   "cell_type": "markdown",
   "metadata": {
    "deletable": true,
    "editable": true
   },
   "source": [
    "<div id='anaconda' />\n",
    "## 1.- `Anaconda`"
   ]
  },
  {
   "cell_type": "markdown",
   "metadata": {
    "collapsed": true,
    "deletable": true,
    "editable": true
   },
   "source": [
    "Although Python is an open-source, cross-platform language, installing it with the usual scientific packages used to be _overly complicated_. Fortunately, there is now an all-in-one scientific Python distribution, `Anaconda` (by Continuum Analytics), that is free, cross-platform, and easy to install. \n",
    "\n",
    "**Note**: There are other distributions and installation options (like Canopy, WinPython, Python(x, y), and others).\n",
    "\n",
    "Why to use Anaconda:\n",
    "1. User level install of the version of python you want.\n",
    "2. Able to install/update packages completely independent of system libraries or admin privileges.\n",
    "3. No risk of messing up required system libraries.\n",
    "4. Comes with the `conda` manager which allows us to handle the packages and magage environments.\n",
    "5. It \"completely\" solves the problem of packages dependencies.\n",
    "6. Most important scientific packages (`NumPy`, `SciPy`, `Scikit-Learn` and others) are compiled with MKL support.\n",
    "7. **Many scientific communities are using it!**.\n",
    "\n",
    "**Note:** In this course we will use [`Python3`](https://www.continuum.io/downloads).\n",
    "\n",
    "### Installation\n",
    "\n",
    "Download installation script [here](https://www.continuum.io/downloads). Run in a terminal:\n",
    "```bash\n",
    " bash Anaconda3-4.3.1-Linux-x86_64.sh\n",
    "```\n",
    "Then modify the `PATH` _environment variable_ in your `~/.bashrc` appending the next line:\n",
    "```bash\n",
    "export PATH=~/anaconda3/bin:$PATH\n",
    "```\n",
    "Run `source ~/.bashrc` and test your installation by calling the python interpreter!\n",
    "\n",
    "### Conda and useful comands\n",
    "\n",
    "* Install packages\n",
    "```bash\n",
    "conda install package_name\n",
    "```\n",
    "* Update packages\n",
    "```bash\n",
    "conda update package_name\n",
    "conda update --all\n",
    "```\n",
    "* Search packages\n",
    "```bash\n",
    "conda search package_pattern\n",
    "```\n",
    "* Clean Installation\n",
    "```bash\n",
    "conda clean {--lock, --tarballs, --index-cache, --packages, --source-cache, --all}\n",
    "```\n",
    "\n",
    "### Environments\n",
    "Isolated distribution of packages.\n",
    "\n",
    "* Create an environments\n",
    "```bash\n",
    "conda create --name env_name python=version packages_to_install_in_env\n",
    "conda create --name python2 python=2.7 anaconda\n",
    "conda create --name python26 python=2.6 python\n",
    "```\n",
    "* Switch to environments\n",
    "```bash\n",
    "source activate env_name\n",
    "```\n",
    "* List all available environments\n",
    "```bash\n",
    "conda info --envs\n",
    "```\n",
    "* Delete an environment\n",
    "```bash\n",
    "conda remove --name env_name --all\n",
    "```\n",
    "\n",
    "**Important Note**: If you install packages with `pip`, they will be installed in the running environment.\n",
    "\n",
    "For more info about conda see [here](https://conda.io/docs/intro.html)"
   ]
  },
  {
   "cell_type": "markdown",
   "metadata": {
    "deletable": true,
    "editable": true
   },
   "source": [
    "<div id='git' />\n",
    "## 2.- `Git`"
   ]
  },
  {
   "cell_type": "markdown",
   "metadata": {
    "collapsed": true,
    "deletable": true,
    "editable": true
   },
   "source": [
    "Git is a _version control system_ (VCS) for tracking changes in computer files and coordinating work on those files among multiple people. It is primarily used for software development, but it can be used to keep track of changes in any files. As a _distributed revision control system_ it is aimed at speed, data integrity, and support for distributed, non-linear workflows.\n",
    "\n",
    "![Git Cartoon](data/git.png)\n",
    "\n",
    "Online providers supporting Git include GitHub (https://github.com), Bitbucket (https://bitbucket.org), Google code (https://code.google.com), Gitorious (https://gitorious.org), and SourceForge (https://sourceforge.net).\n",
    "\n",
    "\n",
    "In order to get your git repository ready for use, follow these instructions:\n",
    "\n",
    "1. Create the project directory.\n",
    "```bash\n",
    "mkdir project && cd project\n",
    "```\n",
    "2. Initialize the local directory as a Git repository.\n",
    "```bash\n",
    "git init\n",
    "```\n",
    "3. Add the files in your new local repository. This stages them for the first commit.\n",
    "```bash\n",
    "touch README\n",
    "git add .\n",
    "# To unstage a file, use 'git reset HEAD YOUR-FILE'.\n",
    "```\n",
    "4. Commit the files that you've staged in your local repository.\n",
    "```bash\n",
    "git commit -m \"First commit\"\n",
    "# To remove this commit and modify the file, use 'git reset --soft HEAD~1' and commit and add the file again.\n",
    "```\n",
    "5. Add the URL for the remote repository where your local repository will be pushed.\n",
    "```bash\n",
    "git remote add origin remote_repository_URL\n",
    "# Sets the new remote\n",
    "git remote -v\n",
    "# Verifies the new remote URL\n",
    "```\n",
    "6. Push the changes in your local repository to GitHub.\n",
    "```bash\n",
    "git push -u origin master\n",
    "```"
   ]
  },
  {
   "cell_type": "markdown",
   "metadata": {
    "deletable": true,
    "editable": true
   },
   "source": [
    "<div id='ipython' />\n",
    "## 3.- `IPython`\n",
    "\n",
    "`IPython` its just an __improved version of the standard `Python` shell__, that provides tools for interactive computing in Python. \n",
    "\n",
    "Here are some cool features of `IPython`:\n",
    "\n",
    "* Better syntax highlighting.\n",
    "* Code completion.\n",
    "* Direct access to bash/linux commands (`cd`, `ls`, `pwd`, `rm`, `mkdir`, etc). Additional commands can be exectuted with: `!command`.\n",
    "* `who` command to see defined variables in the current session.\n",
    "* Inspect objects with `?`.\n",
    "* And __magics__, which we will see briefly. "
   ]
  },
  {
   "cell_type": "markdown",
   "metadata": {
    "deletable": true,
    "editable": true
   },
   "source": [
    "<div id='jupyter' />\n",
    "## 4.- `Jupyter Notebook`\n",
    "\n",
    "It is a web-based interactive environment that combines **code**, **rich text**, **images**, **videos**, **animations**, **mathematics**, and **plots** into a single document. This modern tool is an ideal gateway to high-performance numerical computing and data science in Python."
   ]
  },
  {
   "cell_type": "markdown",
   "metadata": {
    "collapsed": true,
    "deletable": true,
    "editable": true
   },
   "source": [
    "### New paragraph\n",
    "\n",
    "This is *rich* **text** with [links](http://ipython.org), equations:\n",
    "$$\n",
    "\\hat{f}(\\xi) = \\int_{-\\infty}^{+\\infty} f(x) \\, \\mathrm{e}^{-i \\xi x} dx,\n",
    "$$\n",
    "code with syntax highlighting\n",
    "```python\n",
    "def fibonacci(n):\n",
    "  if n <= 1:\n",
    "    return n\n",
    "  else:\n",
    "    return fibonacci(n-1) + fibonacci(n-2)\n",
    "```\n",
    "images: ![This is an image](data/mindblow.jpeg)\n",
    "\n",
    "and plots:"
   ]
  },
  {
   "cell_type": "code",
   "execution_count": 6,
   "metadata": {
    "collapsed": false,
    "deletable": true,
    "editable": true
   },
   "outputs": [
    {
     "data": {
      "image/png": "[encoded data removed]",
      "text/plain": [
       "<matplotlib.figure.Figure at 0x10a0cf3c8>"
      ]
     },
     "metadata": {},
     "output_type": "display_data"
    }
   ],
   "source": [
    "xgrid = np.linspace(-3,3,50)\n",
    "f1 = np.exp(-xgrid**2)\n",
    "f2 = np.tanh(xgrid)\n",
    "plt.figure(figsize=(8,6))\n",
    "plt.plot(xgrid, f1, 'bo-')\n",
    "plt.plot(xgrid, f2, 'ro-')\n",
    "plt.title('Just a demo plot')\n",
    "plt.grid()\n",
    "plt.show()"
   ]
  },
  {
   "cell_type": "markdown",
   "metadata": {
    "deletable": true,
    "editable": true
   },
   "source": [
    "IPython also comes with a sophisticated display system that lets us insert rich web elements in the notebook. Here you can see an example of how to add Youtube videos in a notebook"
   ]
  },
  {
   "cell_type": "code",
   "execution_count": 7,
   "metadata": {
    "collapsed": false,
    "deletable": true,
    "editable": true
   },
   "outputs": [
    {
     "data": {
      "image/jpeg": "[encoded data removed]",
      "text/html": [
       "\n",
       "        <iframe\n",
       "            width=\"400\"\n",
       "            height=\"300\"\n",
       "            src=\"https://www.youtube.com/embed/HrxX9TBj2zY\"\n",
       "            frameborder=\"0\"\n",
       "            allowfullscreen\n",
       "        ></iframe>\n",
       "        "
      ],
      "text/plain": [
       "<IPython.lib.display.YouTubeVideo at 0x103ed26d8>"
      ]
     },
     "execution_count": 7,
     "metadata": {},
     "output_type": "execute_result"
    }
   ],
   "source": [
    "from IPython.display import YouTubeVideo\n",
    "YouTubeVideo('HrxX9TBj2zY')"
   ]
  },
  {
   "cell_type": "markdown",
   "metadata": {
    "deletable": true,
    "editable": true
   },
   "source": [
    "<div id='inside' />\n",
    "## 5.- Inside `Ipython` and `Kernels`"
   ]
  },
  {
   "cell_type": "markdown",
   "metadata": {
    "collapsed": true,
    "deletable": true,
    "editable": true
   },
   "source": [
    "**The IPython Kernel** is a separate `IPython` process which is responsible for running user code, and things like computing possible completions. Frontends, like the notebook or the Qt console, communicate with the `IPython Kernel` using JSON messages sent over ZeroMQ sockets.\n",
    "\n",
    "The core execution machinery for the kernel is shared with terminal IPython:\n",
    "![image](data/nb01.png)\n",
    "A kernel process __can be connected to more than one frontend simultaneously__. In this case, __the different frontends will have access to the same variables__.\n",
    "\n",
    "\n",
    "### The Client-Server architecture\n",
    "\n",
    "The Notebook frontend does something extra. In addition to running your code, it _stores code and output_, together with _markdown notes_, in an editable document called a _notebook_. When you save it, this is sent from your browser to the notebook server, which saves it on disk as a _JSON_ file with a .ipynb extension.\n",
    "![image](data/nb03.png)\n",
    "\n",
    "The notebook server, not the kernel, is responsible for saving and loading notebooks, so **you can edit notebooks even if you don’t have the kernel for that language** —you just won’t be able to run code. The **kernel doesn’t know anything about the notebook document**: it just gets sent cells of code to execute when the user runs them.\n",
    "\n",
    "\n",
    "### Others `Kernels`\n",
    "\n",
    "There are two ways to develop a kernel for another language. **Wrapper kernels** reuse the communications machinery from IPython, and implement only the core execution part. **Native kernels** implement execution and communications in the target language:\n",
    "![image](data/nb02.png)\n",
    "\n",
    "**Note:** To see a list of all available kernels (and installation instructions) visit [here](https://github.com/jupyter/jupyter/wiki/Jupyter-kernels).\n",
    "\n",
    "\n",
    "### Convert notebooks to other formats\n",
    "It is also possible to convert the original JSON notebook to the following formats: **html**, **latex**, **pdf**, **rst**, **markdown** and **script**. For that you must run\n",
    "```bash\n",
    "jupyter-nbconvert --to FORMAT notebook.ipynb\n",
    "```\n",
    "with FORMAT as one of the above options. **Lets convert this notebook to htlm!**"
   ]
  },
  {
   "cell_type": "markdown",
   "metadata": {
    "deletable": true,
    "editable": true
   },
   "source": [
    "<div id='magics' />\n",
    "## 6.- `Magics`\n",
    "\n",
    "`IPython magics` are custom commands that let you interact with your `OS` and filesystem. There are line magics `%` (which just affect the behavior of such line) and cell magics `%%` (which affect the whole cell). \n",
    "\n",
    "Here we test some useful `magics`:"
   ]
  },
  {
   "cell_type": "code",
   "execution_count": 8,
   "metadata": {
    "collapsed": false,
    "deletable": true,
    "editable": true
   },
   "outputs": [
    {
     "data": {
      "application/json": {
       "cell": {
        "!": "OSMagics",
        "HTML": "Other",
        "SVG": "Other",
        "bash": "Other",
        "capture": "ExecutionMagics",
        "debug": "ExecutionMagics",
        "file": "Other",
        "html": "DisplayMagics",
        "javascript": "DisplayMagics",
        "js": "DisplayMagics",
        "latex": "DisplayMagics",
        "perl": "Other",
        "prun": "ExecutionMagics",
        "pypy": "Other",
        "python": "Other",
        "python2": "Other",
        "python3": "Other",
        "ruby": "Other",
        "script": "ScriptMagics",
        "sh": "Other",
        "svg": "DisplayMagics",
        "sx": "OSMagics",
        "system": "OSMagics",
        "time": "ExecutionMagics",
        "timeit": "ExecutionMagics",
        "writefile": "OSMagics"
       },
       "line": {
        "alias": "OSMagics",
        "alias_magic": "BasicMagics",
        "autocall": "AutoMagics",
        "automagic": "AutoMagics",
        "autosave": "KernelMagics",
        "bookmark": "OSMagics",
        "cat": "Other",
        "cd": "OSMagics",
        "clear": "KernelMagics",
        "colors": "BasicMagics",
        "config": "ConfigMagics",
        "connect_info": "KernelMagics",
        "cp": "Other",
        "debug": "ExecutionMagics",
        "dhist": "OSMagics",
        "dirs": "OSMagics",
        "doctest_mode": "BasicMagics",
        "ed": "Other",
        "edit": "KernelMagics",
        "env": "OSMagics",
        "gui": "BasicMagics",
        "hist": "Other",
        "history": "HistoryMagics",
        "killbgscripts": "ScriptMagics",
        "ldir": "Other",
        "less": "KernelMagics",
        "lf": "Other",
        "lk": "Other",
        "ll": "Other",
        "load": "CodeMagics",
        "load_ext": "ExtensionMagics",
        "loadpy": "CodeMagics",
        "logoff": "LoggingMagics",
        "logon": "LoggingMagics",
        "logstart": "LoggingMagics",
        "logstate": "LoggingMagics",
        "logstop": "LoggingMagics",
        "ls": "Other",
        "lsmagic": "BasicMagics",
        "lx": "Other",
        "macro": "ExecutionMagics",
        "magic": "BasicMagics",
        "man": "KernelMagics",
        "matplotlib": "PylabMagics",
        "mkdir": "Other",
        "more": "KernelMagics",
        "mv": "Other",
        "notebook": "BasicMagics",
        "page": "BasicMagics",
        "pastebin": "CodeMagics",
        "pdb": "ExecutionMagics",
        "pdef": "NamespaceMagics",
        "pdoc": "NamespaceMagics",
        "pfile": "NamespaceMagics",
        "pinfo": "NamespaceMagics",
        "pinfo2": "NamespaceMagics",
        "popd": "OSMagics",
        "pprint": "BasicMagics",
        "precision": "BasicMagics",
        "profile": "BasicMagics",
        "prun": "ExecutionMagics",
        "psearch": "NamespaceMagics",
        "psource": "NamespaceMagics",
        "pushd": "OSMagics",
        "pwd": "OSMagics",
        "pycat": "OSMagics",
        "pylab": "PylabMagics",
        "qtconsole": "KernelMagics",
        "quickref": "BasicMagics",
        "recall": "HistoryMagics",
        "rehashx": "OSMagics",
        "reload_ext": "ExtensionMagics",
        "rep": "Other",
        "rerun": "HistoryMagics",
        "reset": "NamespaceMagics",
        "reset_selective": "NamespaceMagics",
        "rm": "Other",
        "rmdir": "Other",
        "run": "ExecutionMagics",
        "save": "CodeMagics",
        "sc": "OSMagics",
        "set_env": "OSMagics",
        "store": "StoreMagics",
        "sx": "OSMagics",
        "system": "OSMagics",
        "tb": "ExecutionMagics",
        "time": "ExecutionMagics",
        "timeit": "ExecutionMagics",
        "unalias": "OSMagics",
        "unload_ext": "ExtensionMagics",
        "who": "NamespaceMagics",
        "who_ls": "NamespaceMagics",
        "whos": "NamespaceMagics",
        "xdel": "NamespaceMagics",
        "xmode": "BasicMagics"
       }
      },
      "text/plain": [
       "Available line magics:\n",
       "%alias  %alias_magic  %autocall  %automagic  %autosave  %bookmark  %cat  %cd  %clear  %colors  %config  %connect_info  %cp  %debug  %dhist  %dirs  %doctest_mode  %ed  %edit  %env  %gui  %hist  %history  %killbgscripts  %ldir  %less  %lf  %lk  %ll  %load  %load_ext  %loadpy  %logoff  %logon  %logstart  %logstate  %logstop  %ls  %lsmagic  %lx  %macro  %magic  %man  %matplotlib  %mkdir  %more  %mv  %notebook  %page  %pastebin  %pdb  %pdef  %pdoc  %pfile  %pinfo  %pinfo2  %popd  %pprint  %precision  %profile  %prun  %psearch  %psource  %pushd  %pwd  %pycat  %pylab  %qtconsole  %quickref  %recall  %rehashx  %reload_ext  %rep  %rerun  %reset  %reset_selective  %rm  %rmdir  %run  %save  %sc  %set_env  %store  %sx  %system  %tb  %time  %timeit  %unalias  %unload_ext  %who  %who_ls  %whos  %xdel  %xmode\n",
       "\n",
       "Available cell magics:\n",
       "%%!  %%HTML  %%SVG  %%bash  %%capture  %%debug  %%file  %%html  %%javascript  %%js  %%latex  %%perl  %%prun  %%pypy  %%python  %%python2  %%python3  %%ruby  %%script  %%sh  %%svg  %%sx  %%system  %%time  %%timeit  %%writefile\n",
       "\n",
       "Automagic is ON, % prefix IS NOT needed for line magics."
      ]
     },
     "execution_count": 8,
     "metadata": {},
     "output_type": "execute_result"
    }
   ],
   "source": [
    "# this will list all magic commands\n",
    "%lsmagic"
   ]
  },
  {
   "cell_type": "code",
   "execution_count": 9,
   "metadata": {
    "collapsed": false,
    "deletable": true,
    "editable": true
   },
   "outputs": [
    {
     "data": {
      "text/plain": [
       "'/Users/Akame1/Projects/SciProg/01_intro'"
      ]
     },
     "execution_count": 9,
     "metadata": {},
     "output_type": "execute_result"
    }
   ],
   "source": [
    "# also work in ls, cd, mkdir, etc\n",
    "%pwd"
   ]
  },
  {
   "cell_type": "code",
   "execution_count": 10,
   "metadata": {
    "collapsed": false,
    "deletable": true,
    "editable": true,
    "scrolled": true
   },
   "outputs": [
    {
     "name": "stdout",
     "output_type": "stream",
     "text": [
      "# this will list all magic commands\n",
      "%lsmagic\n",
      "# also work in ls, cd, mkdir, etc\n",
      "%pwd\n",
      "%history\n",
      "@register_cell_magic\n",
      "def cpp(line, cell):\n",
      "    \"\"\"Compile, execute C++ code, and return the\n",
      "    standard output.\"\"\"\n",
      "    # We first retrieve the current IPython interpreter instance.\n",
      "    ip = get_ipython()\n",
      "    # We define the source and executable filenames.\n",
      "    source_filename = '_temp.cpp'\n",
      "    program_filename = '_temp'\n",
      "    # We write the code to the C++ file.\n",
      "    with open(source_filename, 'w') as f:\n",
      "        f.write(cell)\n",
      "    # We compile the C++ code into an executable.\n",
      "    compile = ip.getoutput(\"g++ {0:s} -o {1:s}\".format(\n",
      "              source_filename, program_filename))\n",
      "    # We execute the executable and return the output.\n",
      "    output = ip.getoutput('./{0:s}'.format(program_filename))\n",
      "    print('\\n'.join(output))\n",
      "%matplotlib inline\n",
      "import numpy as np\n",
      "import matplotlib.pyplot as plt\n",
      "import scipy as sp\n",
      "xgrid = np.linspace(-3,3,50)\n",
      "f1 = np.exp(-xgrid**2)\n",
      "f2 = np.tanh(xgrid)\n",
      "plt.figure(figsize=(8,6))\n",
      "plt.plot(xgrid, f1, 'bo-')\n",
      "plt.plot(xgrid, f2, 'ro-')\n",
      "plt.title('Just a demo plot')\n",
      "plt.grid()\n",
      "plt.show()\n",
      "from IPython.display import YouTubeVideo\n",
      "YouTubeVideo('HrxX9TBj2zY')\n",
      "# this will list all magic commands\n",
      "%lsmagic\n",
      "# also work in ls, cd, mkdir, etc\n",
      "%pwd\n",
      "%history\n"
     ]
    }
   ],
   "source": [
    "%history"
   ]
  },
  {
   "cell_type": "code",
   "execution_count": 11,
   "metadata": {
    "collapsed": false,
    "deletable": true,
    "editable": true
   },
   "outputs": [
    {
     "name": "stdout",
     "output_type": "stream",
     "text": [
      "Hola mundo!\n"
     ]
    }
   ],
   "source": [
    "# this will execute and show the output of the program\n",
    "%run ./hola_mundo.py"
   ]
  },
  {
   "cell_type": "code",
   "execution_count": 12,
   "metadata": {
    "collapsed": false,
    "deletable": true,
    "editable": true
   },
   "outputs": [
    {
     "name": "stdout",
     "output_type": "stream",
     "text": [
      "10 loops, best of 3: 30.6 ms per loop\n"
     ]
    }
   ],
   "source": [
    "def naive_loop():\n",
    "    for i in range(100):\n",
    "        for j in range(100):\n",
    "            for k in range(100):\n",
    "                a = 1+1\n",
    "    return None\n",
    "\n",
    "%timeit -n 10 naive_loop()"
   ]
  },
  {
   "cell_type": "code",
   "execution_count": 13,
   "metadata": {
    "collapsed": false,
    "deletable": true,
    "editable": true
   },
   "outputs": [
    {
     "name": "stdout",
     "output_type": "stream",
     "text": [
      "CPU times: user 35.1 ms, sys: 1.49 ms, total: 36.6 ms\n",
      "Wall time: 36.8 ms\n"
     ]
    }
   ],
   "source": [
    "%time naive_loop()"
   ]
  },
  {
   "cell_type": "code",
   "execution_count": 14,
   "metadata": {
    "collapsed": false,
    "deletable": true,
    "editable": true
   },
   "outputs": [
    {
     "name": "stdout",
     "output_type": "stream",
     "text": [
      "01_intro\n",
      "LICENSE\n",
      "README.md\n",
      "programa.pdf\n"
     ]
    }
   ],
   "source": [
    "%%bash\n",
    "cd ..\n",
    "ls"
   ]
  },
  {
   "cell_type": "markdown",
   "metadata": {
    "deletable": true,
    "editable": true
   },
   "source": [
    " lets you capture the standard output and error output of some code into a Python variable. \n",
    " Here is an example (the outputs are captured in the output Python variable)."
   ]
  },
  {
   "cell_type": "code",
   "execution_count": 15,
   "metadata": {
    "collapsed": true,
    "deletable": true,
    "editable": true
   },
   "outputs": [],
   "source": [
    "%%capture output\n",
    "!ls"
   ]
  },
  {
   "cell_type": "code",
   "execution_count": 16,
   "metadata": {
    "collapsed": false,
    "deletable": true,
    "editable": true
   },
   "outputs": [
    {
     "name": "stdout",
     "output_type": "stream",
     "text": [
      "Writing myfile.txt\n"
     ]
    }
   ],
   "source": [
    "%%writefile myfile.txt\n",
    "Holanda que talca!"
   ]
  },
  {
   "cell_type": "code",
   "execution_count": 17,
   "metadata": {
    "collapsed": false,
    "deletable": true,
    "editable": true
   },
   "outputs": [
    {
     "name": "stdout",
     "output_type": "stream",
     "text": [
      "Holanda que talca!"
     ]
    }
   ],
   "source": [
    "!cat myfile.txt\n",
    "!rm myfile.txt"
   ]
  },
  {
   "cell_type": "markdown",
   "metadata": {
    "deletable": true,
    "editable": true
   },
   "source": [
    "### Writting our own magics!\n",
    "\n",
    "In this section we will create a new cell magic that compiles and executes C++ code in the Notebook."
   ]
  },
  {
   "cell_type": "code",
   "execution_count": 18,
   "metadata": {
    "collapsed": true,
    "deletable": true,
    "editable": true
   },
   "outputs": [],
   "source": [
    "from IPython.core.magic import register_cell_magic"
   ]
  },
  {
   "cell_type": "markdown",
   "metadata": {
    "deletable": true,
    "editable": true
   },
   "source": [
    "To create a new cell magic, we create a function that takes a line (containing possible options) and a cell's contents as its arguments, and we decorate it with `@register_cell_magic`."
   ]
  },
  {
   "cell_type": "code",
   "execution_count": 19,
   "metadata": {
    "collapsed": false,
    "deletable": true,
    "editable": true
   },
   "outputs": [],
   "source": [
    "@register_cell_magic\n",
    "def cpp(line, cell):\n",
    "    \"\"\"Compile, execute C++ code, and return the\n",
    "    standard output.\"\"\"\n",
    "    # We first retrieve the current IPython interpreter instance.\n",
    "    ip = get_ipython()\n",
    "    # We define the source and executable filenames.\n",
    "    source_filename = '_temp.cpp'\n",
    "    program_filename = '_temp'\n",
    "    # We write the code to the C++ file.\n",
    "    with open(source_filename, 'w') as f:\n",
    "        f.write(cell)\n",
    "    # We compile the C++ code into an executable.\n",
    "    compile = ip.getoutput(\"g++ {0:s} -o {1:s}\".format(\n",
    "              source_filename, program_filename))\n",
    "    # We execute the executable and return the output.\n",
    "    output = ip.getoutput('./{0:s}'.format(program_filename))\n",
    "    print('\\n'.join(output))"
   ]
  },
  {
   "cell_type": "code",
   "execution_count": 19,
   "metadata": {
    "collapsed": false,
    "editable": true
   },
   "outputs": [],
   "source": [
    "@register_cell_magic\n",
    "def cpp(line, cell):\n",
    "    \"\"\"Compile, execute C++ code, and return the\n",
    "    standard output.\"\"\"\n",
    "    # We first retrieve the current IPython interpreter instance.\n",
    "    ip = get_ipython()\n",
    "    # We define the source and executable filenames.\n",
    "    source_filename = '_temp.cpp'\n",
    "    program_filename = '_temp'\n",
    "    # We write the code to the C++ file.\n",
    "    with open(source_filename, 'w') as f:\n",
    "        f.write(cell)\n",
    "    # We compile the C++ code into an executable.\n",
    "    compile = ip.getoutput(\"g++ {0:s} -o {1:s}\".format(\n",
    "              source_filename, program_filename))\n",
    "    # We execute the executable and return the output.\n",
    "    output = ip.getoutput('./{0:s}'.format(program_filename))\n",
    "    print('\\n'.join(output))"
   ]
  },
  {
   "cell_type": "code",
   "execution_count": 3,
   "metadata": {
    "collapsed": false,
    "deletable": true,
    "editable": true
   },
   "outputs": [
    {
     "name": "stdout",
     "output_type": "stream",
     "text": [
      "Hello world!\n"
     ]
    }
   ],
   "source": [
    "%%cpp\n",
    "#include<iostream>\n",
    "int main() \n",
    "{\n",
    "    std::cout << \"Hello world!\";\n",
    "}"
   ]
  },
  {
   "cell_type": "markdown",
   "metadata": {
    "deletable": true,
    "editable": true
   },
   "source": [
    "This cell magic is currently only available in your interactive session. To distribute it, you need to create an **IPython extension**. This is a regular Python module or package that extends IPython.\n",
    "\n",
    "To create an IPython extension, copy the definition of the `cpp()` function (without the decorator) to a Python module, named `cpp_ext.py` for example. Then, add the following at the end of the file:\n",
    "\n",
    "```python\n",
    "def load_ipython_extension(ipython):\n",
    "       \"\"\"This function is called when the extension is loaded.\n",
    "       It accepts an IPython InteractiveShell instance.\n",
    "       We can register the magic with the `register_magic_function`\n",
    "       method of the shell instance.\"\"\"\n",
    "       ipython.register_magic_function(cpp, 'cell')\n",
    "```"
   ]
  },
  {
   "cell_type": "markdown",
   "metadata": {
    "deletable": true,
    "editable": true
   },
   "source": [
    "Then, you can load the extension with %load_ext cpp_ext. The cpp_ext.py  le needs to be in the PYTHONPATH, for example in the current directory."
   ]
  },
  {
   "cell_type": "code",
   "execution_count": 4,
   "metadata": {
    "collapsed": false,
    "deletable": true,
    "editable": true
   },
   "outputs": [
    {
     "name": "stdout",
     "output_type": "stream",
     "text": [
      "The cpp_ext extension is already loaded. To reload it, use:\n",
      "  %reload_ext cpp_ext\n"
     ]
    }
   ],
   "source": [
    "%load_ext cpp_ext"
   ]
  },
  {
   "cell_type": "code",
   "execution_count": null,
   "metadata": {
    "collapsed": true
   },
   "outputs": [],
   "source": []
  }
 ],
 "metadata": {
  "kernelspec": {
   "display_name": "Python 3",
   "language": "python",
   "name": "python3"
  },
  "language_info": {
   "codemirror_mode": {
    "name": "ipython",
    "version": 3
   },
   "file_extension": ".py",
   "mimetype": "text/x-python",
   "name": "python",
   "nbconvert_exporter": "python",
   "pygments_lexer": "ipython3",
   "version": "3.6.0"
  }
 },
 "nbformat": 4,
 "nbformat_minor": 2
}
